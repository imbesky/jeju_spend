{
 "cells": [
  {
   "cell_type": "code",
   "execution_count": 124,
   "id": "30080074-38af-457c-8daf-21bcddef1f91",
   "metadata": {},
   "outputs": [],
   "source": [
    "%matplotlib inline"
   ]
  },
  {
   "cell_type": "code",
   "execution_count": 125,
   "id": "7a01dc19-56ef-41f5-b579-d01b93f9b809",
   "metadata": {},
   "outputs": [],
   "source": [
    "import pandas as pd\n",
    "import seaborn as sns\n",
    "import numpy as np\n",
    "import matplotlib.pyplot as plt\n",
    "from matplotlib.ticker import StrMethodFormatter\n",
    "\n",
    "plt.rcParams['font.family'] ='Malgun Gothic'\n",
    "plt.rcParams['axes.unicode_minus'] =False"
   ]
  },
  {
   "cell_type": "code",
   "execution_count": 126,
   "id": "9924e6e3-47d6-4f90-a292-065dde7f038e",
   "metadata": {},
   "outputs": [
    {
     "data": {
      "text/html": [
       "<div>\n",
       "<style scoped>\n",
       "    .dataframe tbody tr th:only-of-type {\n",
       "        vertical-align: middle;\n",
       "    }\n",
       "\n",
       "    .dataframe tbody tr th {\n",
       "        vertical-align: top;\n",
       "    }\n",
       "\n",
       "    .dataframe thead th {\n",
       "        text-align: right;\n",
       "    }\n",
       "</style>\n",
       "<table border=\"1\" class=\"dataframe\">\n",
       "  <thead>\n",
       "    <tr style=\"text-align: right;\">\n",
       "      <th></th>\n",
       "      <th>지역구분</th>\n",
       "      <th>지역구분_시</th>\n",
       "      <th>지역구분_도심/도심외</th>\n",
       "      <th>지역구분_읍/면/동</th>\n",
       "      <th>관광업종 구분</th>\n",
       "      <th>회원 유형</th>\n",
       "      <th>회원 성별</th>\n",
       "      <th>회원 연령대</th>\n",
       "      <th>회원 거주지</th>\n",
       "      <th>2014-09~2015-08 카드이용금액</th>\n",
       "      <th>2014-09 ~ 2015-08 카드이용건수</th>\n",
       "      <th>2014-09~2015-08 카드이용자수</th>\n",
       "      <th>2015-09~2016-08 카드이용금액</th>\n",
       "      <th>2015-09~2016-08 카드이용건수</th>\n",
       "      <th>2015-09~2016-08 카드이용자수</th>\n",
       "      <th>데이터기준일자</th>\n",
       "    </tr>\n",
       "  </thead>\n",
       "  <tbody>\n",
       "    <tr>\n",
       "      <th>0</th>\n",
       "      <td>제주도</td>\n",
       "      <td>전체</td>\n",
       "      <td>전체</td>\n",
       "      <td>전체</td>\n",
       "      <td>교통</td>\n",
       "      <td>내국인</td>\n",
       "      <td>남</td>\n",
       "      <td>20대 미만</td>\n",
       "      <td>제주</td>\n",
       "      <td>19650725</td>\n",
       "      <td>479</td>\n",
       "      <td>68</td>\n",
       "      <td>29843198</td>\n",
       "      <td>851</td>\n",
       "      <td>197</td>\n",
       "      <td>2017-02-16</td>\n",
       "    </tr>\n",
       "    <tr>\n",
       "      <th>1</th>\n",
       "      <td>제주도</td>\n",
       "      <td>전체</td>\n",
       "      <td>전체</td>\n",
       "      <td>전체</td>\n",
       "      <td>교통</td>\n",
       "      <td>내국인</td>\n",
       "      <td>남</td>\n",
       "      <td>20대</td>\n",
       "      <td>제주</td>\n",
       "      <td>2089069468</td>\n",
       "      <td>56192</td>\n",
       "      <td>6528</td>\n",
       "      <td>2711132135</td>\n",
       "      <td>73278</td>\n",
       "      <td>7948</td>\n",
       "      <td>2017-02-16</td>\n",
       "    </tr>\n",
       "    <tr>\n",
       "      <th>2</th>\n",
       "      <td>제주도</td>\n",
       "      <td>전체</td>\n",
       "      <td>전체</td>\n",
       "      <td>전체</td>\n",
       "      <td>교통</td>\n",
       "      <td>내국인</td>\n",
       "      <td>남</td>\n",
       "      <td>30대</td>\n",
       "      <td>제주</td>\n",
       "      <td>10164021228</td>\n",
       "      <td>205373</td>\n",
       "      <td>15016</td>\n",
       "      <td>10459317336</td>\n",
       "      <td>220460</td>\n",
       "      <td>15330</td>\n",
       "      <td>2017-02-16</td>\n",
       "    </tr>\n",
       "    <tr>\n",
       "      <th>3</th>\n",
       "      <td>제주도</td>\n",
       "      <td>전체</td>\n",
       "      <td>전체</td>\n",
       "      <td>전체</td>\n",
       "      <td>교통</td>\n",
       "      <td>내국인</td>\n",
       "      <td>남</td>\n",
       "      <td>40대</td>\n",
       "      <td>제주</td>\n",
       "      <td>22623678695</td>\n",
       "      <td>367138</td>\n",
       "      <td>20886</td>\n",
       "      <td>20797744658</td>\n",
       "      <td>368599</td>\n",
       "      <td>21333</td>\n",
       "      <td>2017-02-16</td>\n",
       "    </tr>\n",
       "    <tr>\n",
       "      <th>4</th>\n",
       "      <td>제주도</td>\n",
       "      <td>전체</td>\n",
       "      <td>전체</td>\n",
       "      <td>전체</td>\n",
       "      <td>교통</td>\n",
       "      <td>내국인</td>\n",
       "      <td>남</td>\n",
       "      <td>50대</td>\n",
       "      <td>제주</td>\n",
       "      <td>24392770471</td>\n",
       "      <td>361576</td>\n",
       "      <td>19359</td>\n",
       "      <td>20730544586</td>\n",
       "      <td>358093</td>\n",
       "      <td>19643</td>\n",
       "      <td>2017-02-16</td>\n",
       "    </tr>\n",
       "  </tbody>\n",
       "</table>\n",
       "</div>"
      ],
      "text/plain": [
       "  지역구분 지역구분_시 지역구분_도심/도심외 지역구분_읍/면/동 관광업종 구분 회원 유형 회원 성별  회원 연령대 회원 거주지  \\\n",
       "0  제주도     전체          전체         전체      교통   내국인     남  20대 미만     제주   \n",
       "1  제주도     전체          전체         전체      교통   내국인     남     20대     제주   \n",
       "2  제주도     전체          전체         전체      교통   내국인     남     30대     제주   \n",
       "3  제주도     전체          전체         전체      교통   내국인     남     40대     제주   \n",
       "4  제주도     전체          전체         전체      교통   내국인     남     50대     제주   \n",
       "\n",
       "   2014-09~2015-08 카드이용금액  2014-09 ~ 2015-08 카드이용건수  2014-09~2015-08 카드이용자수  \\\n",
       "0                19650725                       479                      68   \n",
       "1              2089069468                     56192                    6528   \n",
       "2             10164021228                    205373                   15016   \n",
       "3             22623678695                    367138                   20886   \n",
       "4             24392770471                    361576                   19359   \n",
       "\n",
       "   2015-09~2016-08 카드이용금액  2015-09~2016-08 카드이용건수  2015-09~2016-08 카드이용자수  \\\n",
       "0                29843198                     851                     197   \n",
       "1              2711132135                   73278                    7948   \n",
       "2             10459317336                  220460                   15330   \n",
       "3             20797744658                  368599                   21333   \n",
       "4             20730544586                  358093                   19643   \n",
       "\n",
       "      데이터기준일자  \n",
       "0  2017-02-16  \n",
       "1  2017-02-16  \n",
       "2  2017-02-16  \n",
       "3  2017-02-16  \n",
       "4  2017-02-16  "
      ]
     },
     "execution_count": 126,
     "metadata": {},
     "output_type": "execute_result"
    }
   ],
   "source": [
    "card_korean = pd.read_csv(\"./소비패턴_변화_분석_BC카드_유형별_관광업종별/제주특별자치도_제주지역_내국인_유형별_관광_업종_결제데이터_20170216.csv\", encoding=\"ANSI\")\n",
    "card_korean.head()"
   ]
  },
  {
   "cell_type": "code",
   "execution_count": 127,
   "id": "bf55335d-2a5e-4a7d-8ae4-1b5ab1a8c88f",
   "metadata": {},
   "outputs": [
    {
     "name": "stdout",
     "output_type": "stream",
     "text": [
      "지역구분의 값 목록:\n",
      "['제주도'] \n",
      "\n",
      "지역구분_시의 값 목록:\n",
      "['전체' '서귀포시' '제주시  ' '제주시'] \n",
      "\n",
      "지역구분_도심/도심외의 값 목록:\n",
      "['전체' '도심' '도심 외'] \n",
      "\n",
      "지역구분_읍/면/동의 값 목록:\n",
      "['전체' '건입동' '구좌읍' '남원읍' '노형동' '대륜동' '대정읍' '대천동' '도두동' '동홍동' '봉개동' '삼도1동'\n",
      " '삼도2동' '삼양동' '서홍동' '성산읍' '송산동' '아라동' '안덕면' '애월읍' '연동' '영천동' '예래동' '오라동'\n",
      " '외도동' '용담1동' '용담2동' '우도면' '이도1동' '이도2동' '이호동' '일도1동' '일도2동' '정방동' '조천읍'\n",
      " '중문동' '중앙동' '천지동' '추자면' '표선면' '한경면' '한림읍' '화북동' '효돈동'] \n",
      "\n",
      "관광업종 구분의 값 목록:\n",
      "['교통' '문화/레져' '소매' '쇼핑' '숙박' '식음료' '유흥'] \n",
      "\n",
      "회원 유형의 값 목록:\n",
      "['내국인'] \n",
      "\n",
      "회원 성별의 값 목록:\n",
      "['남' '여'] \n",
      "\n",
      "회원 연령대의 값 목록:\n",
      "['20대 미만' '20대' '30대' '40대' '50대' '60대이상'] \n",
      "\n",
      "회원 거주지의 값 목록:\n",
      "['제주' '한국(제주제외)'] \n",
      "\n",
      "2014-09~2015-08 카드이용금액의 값 목록:\n",
      "[   19650725  2089069468 10164021228 ...    70466940    41606210\n",
      "    16031700] \n",
      "\n",
      "2014-09 ~ 2015-08 카드이용건수의 값 목록:\n",
      "[   479  56192 205373 ...   4275   6520   3003] \n",
      "\n",
      "2014-09~2015-08 카드이용자수의 값 목록:\n",
      "[   68  6528 15016 ...  3761  2487  1353] \n",
      "\n",
      "2015-09~2016-08 카드이용금액의 값 목록:\n",
      "[   29843198  2711132135 10459317336 ...    96188880    52633750\n",
      "    19697950] \n",
      "\n",
      "2015-09~2016-08 카드이용건수의 값 목록:\n",
      "[   851  73278 220460 ...   4340   2177    759] \n",
      "\n",
      "2015-09~2016-08 카드이용자수의 값 목록:\n",
      "[  197  7948 15330 ...  6155  7214  1815] \n",
      "\n",
      "데이터기준일자의 값 목록:\n",
      "['2017-02-16'] \n",
      "\n"
     ]
    }
   ],
   "source": [
    "for c in card_korean.columns:\n",
    "    print(f\"{c}의 값 목록:\")\n",
    "    print(card_korean[c].unique(), \"\\n\")"
   ]
  },
  {
   "cell_type": "code",
   "execution_count": 128,
   "id": "b90ee06c-7c5c-4417-b282-6aa9fb5bc6cc",
   "metadata": {},
   "outputs": [
    {
     "data": {
      "text/html": [
       "<div>\n",
       "<style scoped>\n",
       "    .dataframe tbody tr th:only-of-type {\n",
       "        vertical-align: middle;\n",
       "    }\n",
       "\n",
       "    .dataframe tbody tr th {\n",
       "        vertical-align: top;\n",
       "    }\n",
       "\n",
       "    .dataframe thead th {\n",
       "        text-align: right;\n",
       "    }\n",
       "</style>\n",
       "<table border=\"1\" class=\"dataframe\">\n",
       "  <thead>\n",
       "    <tr style=\"text-align: right;\">\n",
       "      <th></th>\n",
       "      <th>지역구분</th>\n",
       "      <th>지역구분_시</th>\n",
       "      <th>지역구분_도심/도심외</th>\n",
       "      <th>지역구분_읍/면/동</th>\n",
       "      <th>관광업종 구분</th>\n",
       "      <th>회원 유형</th>\n",
       "      <th>2014-09~2015-08 카드이용금액</th>\n",
       "      <th>2014-09 ~ 2015-08 카드이용건수</th>\n",
       "      <th>2014-09~2015-08 카드이용자수</th>\n",
       "      <th>2015-09~2016-08 카드이용금액</th>\n",
       "      <th>2015-09~2016-08 카드이용건수</th>\n",
       "      <th>2015-09~2016-08 카드이용자수</th>\n",
       "      <th>데이터기준일자</th>\n",
       "    </tr>\n",
       "  </thead>\n",
       "  <tbody>\n",
       "    <tr>\n",
       "      <th>0</th>\n",
       "      <td>제주도</td>\n",
       "      <td>전체</td>\n",
       "      <td>전체</td>\n",
       "      <td>전체</td>\n",
       "      <td>교통</td>\n",
       "      <td>중국인</td>\n",
       "      <td>175212447</td>\n",
       "      <td>1164</td>\n",
       "      <td>897</td>\n",
       "      <td>131525772</td>\n",
       "      <td>2094</td>\n",
       "      <td>1572</td>\n",
       "      <td>2017-02-16</td>\n",
       "    </tr>\n",
       "    <tr>\n",
       "      <th>1</th>\n",
       "      <td>제주도</td>\n",
       "      <td>전체</td>\n",
       "      <td>전체</td>\n",
       "      <td>전체</td>\n",
       "      <td>문화/레져</td>\n",
       "      <td>중국인</td>\n",
       "      <td>51496030372</td>\n",
       "      <td>105713</td>\n",
       "      <td>95402</td>\n",
       "      <td>41562125907</td>\n",
       "      <td>122436</td>\n",
       "      <td>105305</td>\n",
       "      <td>2017-02-16</td>\n",
       "    </tr>\n",
       "    <tr>\n",
       "      <th>2</th>\n",
       "      <td>제주도</td>\n",
       "      <td>전체</td>\n",
       "      <td>전체</td>\n",
       "      <td>전체</td>\n",
       "      <td>소매</td>\n",
       "      <td>중국인</td>\n",
       "      <td>202573015771</td>\n",
       "      <td>963687</td>\n",
       "      <td>513522</td>\n",
       "      <td>256067917133</td>\n",
       "      <td>1388534</td>\n",
       "      <td>693308</td>\n",
       "      <td>2017-02-16</td>\n",
       "    </tr>\n",
       "    <tr>\n",
       "      <th>3</th>\n",
       "      <td>제주도</td>\n",
       "      <td>전체</td>\n",
       "      <td>전체</td>\n",
       "      <td>전체</td>\n",
       "      <td>쇼핑</td>\n",
       "      <td>중국인</td>\n",
       "      <td>325893391292</td>\n",
       "      <td>1320988</td>\n",
       "      <td>486040</td>\n",
       "      <td>421742999645</td>\n",
       "      <td>2709153</td>\n",
       "      <td>842443</td>\n",
       "      <td>2017-02-16</td>\n",
       "    </tr>\n",
       "    <tr>\n",
       "      <th>4</th>\n",
       "      <td>제주도</td>\n",
       "      <td>전체</td>\n",
       "      <td>전체</td>\n",
       "      <td>전체</td>\n",
       "      <td>숙박</td>\n",
       "      <td>중국인</td>\n",
       "      <td>43399696873</td>\n",
       "      <td>21708</td>\n",
       "      <td>16699</td>\n",
       "      <td>38178142342</td>\n",
       "      <td>30450</td>\n",
       "      <td>23311</td>\n",
       "      <td>2017-02-16</td>\n",
       "    </tr>\n",
       "  </tbody>\n",
       "</table>\n",
       "</div>"
      ],
      "text/plain": [
       "  지역구분 지역구분_시 지역구분_도심/도심외 지역구분_읍/면/동 관광업종 구분 회원 유형  2014-09~2015-08 카드이용금액  \\\n",
       "0  제주도     전체          전체         전체      교통   중국인               175212447   \n",
       "1  제주도     전체          전체         전체   문화/레져   중국인             51496030372   \n",
       "2  제주도     전체          전체         전체      소매   중국인            202573015771   \n",
       "3  제주도     전체          전체         전체      쇼핑   중국인            325893391292   \n",
       "4  제주도     전체          전체         전체      숙박   중국인             43399696873   \n",
       "\n",
       "   2014-09 ~ 2015-08 카드이용건수  2014-09~2015-08 카드이용자수  2015-09~2016-08 카드이용금액  \\\n",
       "0                      1164                     897               131525772   \n",
       "1                    105713                   95402             41562125907   \n",
       "2                    963687                  513522            256067917133   \n",
       "3                   1320988                  486040            421742999645   \n",
       "4                     21708                   16699             38178142342   \n",
       "\n",
       "   2015-09~2016-08 카드이용건수  2015-09~2016-08 카드이용자수     데이터기준일자  \n",
       "0                    2094                    1572  2017-02-16  \n",
       "1                  122436                  105305  2017-02-16  \n",
       "2                 1388534                  693308  2017-02-16  \n",
       "3                 2709153                  842443  2017-02-16  \n",
       "4                   30450                   23311  2017-02-16  "
      ]
     },
     "execution_count": 128,
     "metadata": {},
     "output_type": "execute_result"
    }
   ],
   "source": [
    "card_chinese = pd.read_csv(\"./소비패턴_변화_분석_BC카드_유형별_관광업종별/제주특별자치도_제주지역_중국인_관광_업종_결제데이터_20170216.csv\", encoding=\"ANSI\")\n",
    "card_chinese.head()"
   ]
  },
  {
   "cell_type": "code",
   "execution_count": 129,
   "id": "72ac63a0-6b8a-4717-8843-1e3c93a5334c",
   "metadata": {
    "scrolled": true
   },
   "outputs": [
    {
     "name": "stdout",
     "output_type": "stream",
     "text": [
      "지역구분의 값 목록:\n",
      "['제주도'] \n",
      "\n",
      "지역구분_시의 값 목록:\n",
      "['전체' '서귀포시' '제주시'] \n",
      "\n",
      "지역구분_도심/도심외의 값 목록:\n",
      "['전체' '도심' '도심 외'] \n",
      "\n",
      "지역구분_읍/면/동의 값 목록:\n",
      "['전체' '건입동' '구좌읍' '남원읍' '노형동' '대륜동' '대정읍' '대천동' '도두동' '동홍동' '봉개동' '삼도1동'\n",
      " '삼도2동' '삼양동' '서홍동' '성산읍' '송산동' '아라동' '안덕면' '애월읍' '연동' '영천동' '예래동' '오라동'\n",
      " '외도동' '용담1동' '용담2동' '우도면' '이도1동' '이도2동' '이호동' '일도1동' '일도2동' '정방동' '조천읍'\n",
      " '중문동' '중앙동' '천지동' '표선면' '한경면' '한림읍' '화북동' '효돈동'] \n",
      "\n",
      "관광업종 구분의 값 목록:\n",
      "['교통' '문화/레져' '소매' '쇼핑' '숙박' '식음료' '유흥'] \n",
      "\n",
      "회원 유형의 값 목록:\n",
      "['중국인'] \n",
      "\n",
      "2014-09~2015-08 카드이용금액의 값 목록:\n",
      "[   175212447  51496030372 202573015771 325893391292  43399696873\n",
      "   4386759545     90517370     82590588   3907141300   2907385185\n",
      " 122820886997  22420424809    672719121      3141460     80705016\n",
      "    401872440 157071274626 153723337600  18141908477   3091842035\n",
      "     86472410    592256060     46582090     62883600      5815800\n",
      "      1537900      1513780      3672800      2911850      4128610\n",
      "      1344000      1345680      3793350       836600     33607612\n",
      "       657900  10884166064  13192784013  12583650548    362186820\n",
      "     10677500      5144000    135594000    899573970  14860577318\n",
      "      2366100      2404300      1038960      5253500      6730000\n",
      "      6078470     20055821      5173060       964500   2567298880\n",
      "     15244040      2060000     24851200      5481050    102501105\n",
      "      2632200      2975850     92529410     38973552     10217302\n",
      "      4742650      1477300      2736130   3076344409    124743160\n",
      "   3032569425    216745710      6509390     14242780      2536000\n",
      "      1226500     28280002   1804051340  46538483645     22913360\n",
      "    105654500      1184950      3742610     14634380     11374300\n",
      "      9236800     50481660  74631924284      5118700    333344780\n",
      "    206165890     12819410   1158272416    399339650       944000\n",
      "  45680639273    104218450     55707290    762708347     22338269\n",
      "      3939361      3508800  61694767850  22975851196   2423491586\n",
      "   1295165114     69108500      1146000      3576100     63191555\n",
      "    879838040   1816118492 121691967082   7313355124    505221350\n",
      "  19955013851       557150      3966000       836390      7138990\n",
      "      2975950      1861500     13789500      2485820      3051300\n",
      "      9287500     35511934  20047256654  42576202625      2802100\n",
      "    976249791      8530600      8723500   2701140020     11373300\n",
      "    115877520     14803880     16047326      6986400    282264130\n",
      "  23055672085     30026580     13185760     24154380      2512610\n",
      "   4342771347      3354500      1461300     26892750   3358270595\n",
      "     11674650     36741880     84710570       478000   7215578161\n",
      "     32861670      1842000      6717750    569177713     45199930\n",
      "     27491900     69148691       548960      9974900      1142100\n",
      "     13410660    805963420     15142900   3016287020      7177000\n",
      "     38373450    117350110     45044490       714400    225807890\n",
      "     17274960      6459050     18050800      3540400    138758090\n",
      "     15650470     62840156     20169480      3471000  40120875581\n",
      "      5336220     30580270   1116295092       531400       116450\n",
      "     15492900      5011575    343879899     17839630     77667444\n",
      "     13274650      1528800       910770      2201800       160300] \n",
      "\n",
      "2014-09 ~ 2015-08 카드이용건수의 값 목록:\n",
      "[   1164  105713  963687 1320988   21708   85031     581     188   57656\n",
      "   23673  648267   10725   10007      45     381    9015  750879  629464\n",
      "   10125   62704     514    1954    1332     471     172      27      71\n",
      "      20      81      39      21      30      18      43   38470   73608\n",
      "     376    4006      34      22    1946    9182     301      94     178\n",
      "     510      69     108      19   18240    1353     142    1119      44\n",
      "     219     594    2014      67     155      28      88   51597    9202\n",
      "    2112    2903      72     607      64     680   30192    4932     232\n",
      "    2076     267     148     167     745     812      99    6902    3618\n",
      "    1022      80    7498      16   30391     363    5898     101     646\n",
      "      46  334727  181562    6951   28411      40      29   13480    9101\n",
      "  631507    9382    7230   69872      63      86     575      15      41\n",
      "     111     213     171     202  102033  352332   23265     540     129\n",
      "   29303     391     965    1033      68     247    7458   49803    1321\n",
      "     130     780   42677     283     903   27862    1011     252    1566\n",
      "      49   11097    1899     246    6735    2510      95     862      14\n",
      "     486     571     446   44061     158     950     312     671    3357\n",
      "     651     182     128    2276    1535     518     610     107  153284\n",
      "     336     532     162      11     221     100    1402     973     355\n",
      "     208      25] \n",
      "\n",
      "2014-09~2015-08 카드이용자수의 값 목록:\n",
      "[   897  95402 513522 486040  16699  63856    521    162  54378  17050\n",
      " 227104   8314   7816     41    279   8217 405643 311053   8501  50124\n",
      "    459   1794   1096    435    158     24     46     17     70     28\n",
      "     18     22     34     48     25  33637  49612    292   3375     33\n",
      "   1873   7089    226     67     77    159     27    406     61     98\n",
      "     16  17188   1195     14    127     21    632     43    192    505\n",
      "   1603     57    136     80  30520   6930   1804   2522     62    468\n",
      "     49    652  25821   4325    221   1914    227     31    153    670\n",
      "    339     44   6219   3392    761   6908     15  28426    358   5108\n",
      "     95    583     42    137 182317  92170   5877  23526    333  12594\n",
      "   6995 219044   7169   6037  64481     54     74     20    491    170\n",
      "     37    164    166  90086 199329  20823    474    111  21064    354\n",
      "    808    827     66    222   6858  42888   1015    114    543     38\n",
      "  40110    228    790  19272    906    232   1466     47  10098   1555\n",
      "    206   4786   1906     88    701    374    438    387  41763    146\n",
      "    734    280    578   2606    565    126   2035   1340    483    517\n",
      "    101 140720    181     96     19     11    202    953    686    217\n",
      "    165     23     26] \n",
      "\n",
      "2015-09~2016-08 카드이용금액의 값 목록:\n",
      "[   131525772  41562125907 256067917133 421742999645  38178142342\n",
      "   7013178601    125089905     31604753   4369664970   2671159939\n",
      "   3118392860  23161908403    810946675      6953300     73008656\n",
      "    484829910 217309526415 405613787195  14644620669   5180502968\n",
      "    114920100   8011659585    145881300     62829600      6634000\n",
      "      8177200      4036800      4535400      9878500      8903167\n",
      "      3971900      1501990      1901000      2195200      8547265\n",
      "      4490400  12219999821  19177716897   9786477070    642555260\n",
      "      7956500      6135500     84268900   1044768940   7999232692\n",
      "      5794900      2664800      6966040      7902160      9171400\n",
      "      7453290     39474035     17668600      1283900  10117127803\n",
      "     31318880      8608500     58092200     13919550    155336830\n",
      "      5242600      2760920     99981660     64395380     43292419\n",
      "     13666450       272700      1924470   2473343568    150655420\n",
      "    685818549    262500260     22687900     44107980      8753900\n",
      "      1612300     27452130   1758765521  10624870790     57819270\n",
      "    243159100      2183850     12322310     39279793     18490300\n",
      "      6323000      1785000   6598133268      8123000    700314982\n",
      "    301861470     67870320     21809100    489136620       836993\n",
      "  35773207650    249256730     79760570     27595857     84004408\n",
      "      2929630      4159000  84740902243 331745990649   3762114143\n",
      "   2897304144     99426400       768200      8430029       649047\n",
      "   1079225570   1572856330   1660480520   5514317588    561805120\n",
      "  32171998707      5750740      8562100      3221640      7766420\n",
      "      9932660     11797100     13328000      3912110      4402569\n",
      "     10451200     40318435  15722875740  47360361661     37673500\n",
      "    886202220     19405000      9897700   2094721580     37743700\n",
      "     94693735     19988050     21212251     12993850    300946360\n",
      "  18213816764    105270530     25699900     34336824      1905900\n",
      "  23384924419      8214840      4179800    156746860   4709879576\n",
      "     98430670     60927920    240650710      1522000   5271944517\n",
      "     40608480     11183600     16030350    500571017     58039420\n",
      "     71732693     87146476      3950000     28470600      5610400\n",
      "     99997730    131700651     60188200   3275014180     10407440\n",
      "     52840400    407626152     60837750       439500    271758862\n",
      "    102690590     10741800     23436800      5585250    204576690\n",
      "     23501920     88700900     32489000      5739700  33559906748\n",
      "      6247860     33137720    138447518      3528570      2235500\n",
      "     24849400     18039680    187006310     21317340    122092392\n",
      "     29533950      6709337      2523000      1350200       420190] \n",
      "\n",
      "2015-09~2016-08 카드이용건수의 값 목록:\n",
      "[   2094  122436 1388534 2709153   30450  148198    1096     261   70244\n",
      "   21889   48952   12347   12952      89     586   13292 1175718 2611166\n",
      "   16302  113669     936   23362    5174    1036     180      73     208\n",
      "      31     275      49      51      55      13      54     161      56\n",
      "   45198  108533    1285    7913     199    1216   11713     299     203\n",
      "      48     434     173     278     757     113     324      28   65471\n",
      "    2502      60     697      43    1728     102     177     774    3828\n",
      "     128     328      12      46   41482   13044    2064    4422     307\n",
      "    1727     238      33     563   28283    4949     546    4131      27\n",
      "    1020     141     211      91      14     691     147   14855    5422\n",
      "     856     106   10616      20   21461     926    7468     237    1987\n",
      "     181  591855 2049251   11262   64471     599      82      15   16680\n",
      "    6144   23340    9880    7998  101225     369     179     188     529\n",
      "      40     191      67     378      39     145     234   96981  414086\n",
      "      45   27954    1106     168   28048    1274     978    1525      61\n",
      "     476    8091   47744    3228     225    1080      41  102620     752\n",
      "    4622   48320    2572     383    3959     103    7923    2681     101\n",
      "     325    7233    4227     245    1665    1364     112    5229     438\n",
      "    1514   53409    1490     818    1069    4216    2594     305     174\n",
      "      86    2590    2020     454     935  154817     426     470      78\n",
      "     259     178     550     198     987    1103     233     533      80\n",
      "     119      36] \n",
      "\n",
      "2015-09~2016-08 카드이용자수의 값 목록:\n",
      "[  1572 105305 693308 842443  23311 106151    973    219  64457  15506\n",
      "  31225   9077  10306     78    383  12022 593206 816571  13772  86526\n",
      "    831  21194   3966    870    161     63    156     25    232     38\n",
      "     47     40     13     43     80     42  40698  73161   1048   6525\n",
      "    193     26   1185   9139    205    165    312    111    237    585\n",
      "     97    275     28  61328   2015     51    620     33    689     74\n",
      "    148    664   2961    273     12  25093   9243   1743   3682    259\n",
      "   1358    199    515  22699   4155    494   3786    786    119    182\n",
      "     14    166    101  13358   4882    600     89   9644     18  19701\n",
      "    915   6149    226   1661    178 278803 637594   9628  51144    505\n",
      "     71     15  15484   4893  14310   7271   6935  93937    297    168\n",
      "    147    418     32    159    319     36    142    207  88311 235137\n",
      "  24903   1018  21765   1120    849   1239     49    447   7470  40574\n",
      "   2355    800  91218    621     61   4089  29818   2239    355   3630\n",
      "     95   7360   2147     90    289   5124   3206    228     22   1019\n",
      "     94   3742    393   1264  48958     99   1150    712    920   3229\n",
      "   2164    167     75   2263   1645    425    828    133 141855    309\n",
      "     65    190    139    488    187    665    703    189     68     96\n",
      "     31     30] \n",
      "\n",
      "데이터기준일자의 값 목록:\n",
      "['2017-02-16'] \n",
      "\n"
     ]
    }
   ],
   "source": [
    "for c in card_chinese.columns:\n",
    "    print(f\"{c}의 값 목록:\")\n",
    "    print(card_chinese[c].unique(), \"\\n\")"
   ]
  },
  {
   "cell_type": "code",
   "execution_count": 185,
   "id": "d5b9b377-03a9-4dbb-9e1f-4cbfbbee6715",
   "metadata": {},
   "outputs": [
    {
     "name": "stderr",
     "output_type": "stream",
     "text": [
      "C:\\Users\\hanul\\AppData\\Local\\Temp\\ipykernel_11820\\2486237618.py:16: UserWarning: No artists with labels found to put in legend.  Note that artists whose label start with an underscore are ignored when legend() is called with no argument.\n",
      "  plt.legend()\n"
     ]
    },
    {
     "data": {
      "text/plain": [
       "<matplotlib.legend.Legend at 0x1c91db08190>"
      ]
     },
     "execution_count": 185,
     "metadata": {},
     "output_type": "execute_result"
    },
    {
     "data": {
      "image/png": "[encoded data removed]",
      "text/plain": [
       "<Figure size 1800x800 with 6 Axes>"
      ]
     },
     "metadata": {},
     "output_type": "display_data"
    }
   ],
   "source": [
    "# 1. 전체 소비\n",
    "# 분류기준 1: 거주지 - 제주도민, 제주도 외 거주 내국인, 중국인\n",
    "# 분류기준 2: 관광업종 - '교통' '문화/레져' '소매' '쇼핑' '숙박' '식음료' '유흥'\n",
    "\n",
    "total_k = card_korean[(card_korean['지역구분_시'] == '전체') & (card_korean['지역구분_도심/도심외'] == '전체')].iloc[:, np.r_[4, 8, 9:15]].groupby(['관광업종 구분', '회원 거주지']).sum().reset_index()\n",
    "total_kj = total_k[total_k['회원 거주지'] == '제주'].iloc[:,np.r_[0, 2:8]]\n",
    "total_knj = total_k[total_k['회원 거주지'] != '제주'].iloc[:,np.r_[0, 2:8]]\n",
    "\n",
    "total_c = card_chinese[(card_chinese['지역구분_시'] == '전체') & (card_chinese['지역구분_도심/도심외'] == '전체')].iloc[:, np.r_[4, 6:12]].groupby('관광업종 구분').sum().reset_index()\n",
    "\n",
    "categories = total_k['관광업종 구분'].unique().tolist()\n",
    "\n",
    "fig, axs = plt.subplots(2,3, figsize = (18, 8), constrained_layout=True)\n",
    "width = 0.2\n",
    "index = np.arange(len(total_kj))\n",
    "plt.legend()\n",
    "fig.suptitle('총 소비')"
   ]
  },
  {
   "cell_type": "code",
   "execution_count": 194,
   "id": "7384b6b8-308d-4205-b197-d671b65f5281",
   "metadata": {},
   "outputs": [
    {
     "name": "stderr",
     "output_type": "stream",
     "text": [
      "C:\\Users\\hanul\\AppData\\Local\\Temp\\ipykernel_11820\\2449630905.py:9: UserWarning: set_ticklabels() should only be used with a fixed number of ticks, i.e. after set_ticks() or using a FixedLocator.\n",
      "  axs[0,0].set_yticklabels(yticklabels)\n"
     ]
    },
    {
     "data": {
      "text/plain": [
       "Text(0.5, 1.0, '2014.09 - 2015.08 카드 총 이용금액')"
      ]
     },
     "execution_count": 194,
     "metadata": {},
     "output_type": "execute_result"
    }
   ],
   "source": [
    "# 1) 제주도민/내국인/중국인 별 2014.09 - 2015.08 카드 총 이용금액 비교\n",
    "\n",
    "axs[0,0].bar(index-width, total_kj.iloc[:, 1], width, color='green', label='제주도민')\n",
    "axs[0,0].bar(index, total_knj.iloc[:, 1], width, color='blue', label='내국인')\n",
    "axs[0,0].bar(index+width, total_c.iloc[:, 1], width, color='red', label='중국인')\n",
    "\n",
    "axs[0,0].set_xticks(index, categories)\n",
    "axs[0,0].set_yticklabels([f'{int(y/100000000):,}억 원' for y in axs[0,0].get_yticks()])\n",
    "axs[0,0].set_xlabel('관광업종 분류')\n",
    "axs[0,0].set_ylabel('이용 금액')\n",
    "axs[0,0].set_title('2014.09 - 2015.08 카드 총 이용금액')\n",
    "\n",
    "# 중국인 관광객의 경우 버스 요금을 알리페이 등의 방법으로 지불해 카드 이용 금액이 낮을 수 있음"
   ]
  },
  {
   "cell_type": "code",
   "execution_count": 195,
   "id": "85e450ca-fbb1-45a6-a72e-a6723a72076e",
   "metadata": {},
   "outputs": [
    {
     "name": "stderr",
     "output_type": "stream",
     "text": [
      "C:\\Users\\hanul\\AppData\\Local\\Temp\\ipykernel_11820\\4155219876.py:9: UserWarning: set_ticklabels() should only be used with a fixed number of ticks, i.e. after set_ticks() or using a FixedLocator.\n",
      "  axs[0,1].set_yticklabels(yticklabels)\n"
     ]
    },
    {
     "data": {
      "text/plain": [
       "Text(0.5, 1.0, '2014.09 - 2015.08 카드 이용 건수')"
      ]
     },
     "execution_count": 195,
     "metadata": {},
     "output_type": "execute_result"
    }
   ],
   "source": [
    "# 2) 제주도민/내국인/중국인 별 2014.09 - 2015.08 카드 이용 건수\n",
    "\n",
    "axs[0,1].bar(index-width, total_kj.iloc[:, 2], width, color='green')\n",
    "axs[0,1].bar(index, total_knj.iloc[:, 2], width, color='blue')\n",
    "axs[0,1].bar(index+width, total_c.iloc[:, 2], width, color='red')\n",
    "\n",
    "axs[0,1].set_xticks(index, categories)\n",
    "axs[0,1].set_yticklabels([f'{int(y/10000):,}만 건' for y in axs[0,1].get_yticks()])\n",
    "axs[0,1].set_xlabel('관광업종 분류')\n",
    "axs[0,1].set_ylabel('이용 건수')\n",
    "axs[0,1].set_title('2014.09 - 2015.08 카드 이용 건수')"
   ]
  },
  {
   "cell_type": "code",
   "execution_count": 196,
   "id": "5fc95cb1-290e-4630-9fbf-bb1761065bf7",
   "metadata": {},
   "outputs": [
    {
     "name": "stderr",
     "output_type": "stream",
     "text": [
      "C:\\Users\\hanul\\AppData\\Local\\Temp\\ipykernel_11820\\4287897540.py:9: UserWarning: set_ticklabels() should only be used with a fixed number of ticks, i.e. after set_ticks() or using a FixedLocator.\n",
      "  axs[0,2].set_yticklabels(yticklabels)\n"
     ]
    },
    {
     "data": {
      "text/plain": [
       "Text(0.5, 1.0, '2014.09 - 2015.08 카드 1회당 이용 금액')"
      ]
     },
     "execution_count": 196,
     "metadata": {},
     "output_type": "execute_result"
    }
   ],
   "source": [
    "# 3) 제주도민/내국인/중국인 별 2014.09 - 2015.08 카드 1회당 이용 금액\n",
    "\n",
    "axs[0,2].bar(index-width, (total_kj.iloc[:, 1] / total_kj.iloc[:, 2]), width, color='green')\n",
    "axs[0,2].bar(index,(total_knj.iloc[:, 1] / total_knj.iloc[:, 2]), width, color='blue')\n",
    "axs[0,2].bar(index+width, (total_c.iloc[:, 1] / total_c.iloc[:, 2]), width, color='red')\n",
    " \n",
    "axs[0,2].set_xticks(index, categories)\n",
    "axs[0,2].set_yticklabels([f'{int(y/10000):,}만 원' for y in axs[0,2].get_yticks()])\n",
    "axs[0,2].set_xlabel('관광업종 분류')\n",
    "axs[0,2].set_ylabel('1회당 이용 금액')\n",
    "axs[0,2].set_title('2014.09 - 2015.08 카드 1회당 이용 금액')"
   ]
  },
  {
   "cell_type": "code",
   "execution_count": 197,
   "id": "c4a3fbbf-2c22-4278-add0-1bb93a6a8bf1",
   "metadata": {},
   "outputs": [
    {
     "name": "stderr",
     "output_type": "stream",
     "text": [
      "C:\\Users\\hanul\\AppData\\Local\\Temp\\ipykernel_11820\\1985961453.py:9: UserWarning: set_ticklabels() should only be used with a fixed number of ticks, i.e. after set_ticks() or using a FixedLocator.\n",
      "  axs[1,0].set_yticklabels(yticklabels)\n"
     ]
    },
    {
     "data": {
      "text/plain": [
       "Text(0.5, 1.0, '2015.09 - 2016.08 카드 총 이용금액')"
      ]
     },
     "execution_count": 197,
     "metadata": {},
     "output_type": "execute_result"
    }
   ],
   "source": [
    "# 4) 제주도민/내국인/중국인 별 2015.09 - 2016.08 카드 이용금액\n",
    "\n",
    "axs[1,0].bar(index-width, total_kj.iloc[:, 4], width, color='green')\n",
    "axs[1,0].bar(index, total_knj.iloc[:, 4], width, color='blue')\n",
    "axs[1,0].bar(index+width, total_c.iloc[:, 4], width, color='red',)\n",
    "\n",
    "axs[1,0].set_xticks(index, categories)\n",
    "axs[1,0].set_yticklabels([f'{int(y/100000000):,}억 원' for y in axs[1,0].get_yticks()])\n",
    "axs[1,0].set_xlabel('관광업종 분류')\n",
    "axs[1,0].set_ylabel('이용 금액')\n",
    "axs[1,0].set_title('2015.09 - 2016.08 카드 총 이용금액')"
   ]
  },
  {
   "cell_type": "code",
   "execution_count": 224,
   "id": "1cafcf77-947a-4d35-a776-afd5dc14280a",
   "metadata": {},
   "outputs": [
    {
     "name": "stderr",
     "output_type": "stream",
     "text": [
      "C:\\Users\\hanul\\AppData\\Local\\Temp\\ipykernel_11820\\4092045216.py:8: UserWarning: set_ticklabels() should only be used with a fixed number of ticks, i.e. after set_ticks() or using a FixedLocator.\n",
      "  axs[1,1].set_yticklabels([f'{int(y/10000):,}만 건' for y in axs[1,1].get_yticks()])\n"
     ]
    },
    {
     "data": {
      "text/plain": [
       "Text(0.5, 1.0, '2015.09 - 2016.08 카드 이용 건수')"
      ]
     },
     "execution_count": 224,
     "metadata": {},
     "output_type": "execute_result"
    }
   ],
   "source": [
    "# 5) 제주도민/내국인/중국인 별 2015.09 - 2016.08 카드 이용 건수\n",
    "\n",
    "axs[1,1].bar(index-width, total_kj.iloc[:, 5], width, color='green')\n",
    "axs[1,1].bar(index, total_knj.iloc[:, 5], width, color='blue')\n",
    "axs[1,1].bar(index+width, total_c.iloc[:, 5], width, color='red',)\n",
    "\n",
    "axs[1,1].set_xticks(index, categories)\n",
    "axs[1,1].set_yticklabels([f'{int(y/10000):,}만 건' for y in axs[1,1].get_yticks()])\n",
    "axs[1,1].set_xlabel('관광업종 분류')\n",
    "axs[1,1].set_ylabel('이용 건수')\n",
    "axs[1,1].set_title('2015.09 - 2016.08 카드 이용 건수')"
   ]
  },
  {
   "cell_type": "code",
   "execution_count": 199,
   "id": "7a310138-6aef-403b-925c-eff47cf9e14b",
   "metadata": {},
   "outputs": [
    {
     "name": "stderr",
     "output_type": "stream",
     "text": [
      "C:\\Users\\hanul\\AppData\\Local\\Temp\\ipykernel_11820\\1332433451.py:9: UserWarning: set_ticklabels() should only be used with a fixed number of ticks, i.e. after set_ticks() or using a FixedLocator.\n",
      "  axs[1,2].set_yticklabels(yticklabels)\n"
     ]
    },
    {
     "data": {
      "text/plain": [
       "Text(0.5, 1.0, '2015.09 - 2016.08 카드 1회당 이용 금액')"
      ]
     },
     "execution_count": 199,
     "metadata": {},
     "output_type": "execute_result"
    }
   ],
   "source": [
    "# 6) 제주도민/내국인/중국인 별 2015.09 - 2016.08 카드 1회당 이용 금액\n",
    "\n",
    "axs[1,2].bar(index-width, (total_kj.iloc[:, 4] / total_kj.iloc[:, 5]), width, color='green')\n",
    "axs[1,2].bar(index,(total_knj.iloc[:, 4] / total_knj.iloc[:, 5]), width, color='blue')\n",
    "axs[1,2].bar(index+width, (total_c.iloc[:, 4] / total_c.iloc[:, 5]), width, color='red')\n",
    "\n",
    "axs[1,2].set_xticks(index, categories)\n",
    "axs[1,2].set_yticklabels([f'{int(y/10000):,}만 원' for y in axs[1,2].get_yticks()])\n",
    "axs[1,2].set_xlabel('관광업종 분류')\n",
    "axs[1,2].set_ylabel('1회당 이용 금액')\n",
    "axs[1,2].set_title('2015.09 - 2016.08 카드 1회당 이용 금액')"
   ]
  },
  {
   "cell_type": "code",
   "execution_count": null,
   "id": "831f3c29-5d42-4ea2-b1ad-9cd643499b19",
   "metadata": {},
   "outputs": [],
   "source": [
    "plt.savefig(\"total.png\")"
   ]
  },
  {
   "cell_type": "code",
   "execution_count": 244,
   "id": "456b59b5-6abb-4798-b637-9d6ea4d5d16d",
   "metadata": {},
   "outputs": [
    {
     "name": "stderr",
     "output_type": "stream",
     "text": [
      "C:\\Users\\hanul\\AppData\\Local\\Temp\\ipykernel_11820\\4018375178.py:19: UserWarning: set_ticklabels() should only be used with a fixed number of ticks, i.e. after set_ticks() or using a FixedLocator.\n",
      "  axs2[0,0].set_yticklabels([f'{int(y/100000000):,}억 원' for y in axs2[0,0].get_yticks()])\n",
      "C:\\Users\\hanul\\AppData\\Local\\Temp\\ipykernel_11820\\4018375178.py:31: UserWarning: set_ticklabels() should only be used with a fixed number of ticks, i.e. after set_ticks() or using a FixedLocator.\n",
      "  axs2[0,1].set_yticklabels([f'{int(y/10000):,}만 원' for y in axs2[0,1].get_yticks()])\n",
      "C:\\Users\\hanul\\AppData\\Local\\Temp\\ipykernel_11820\\4018375178.py:41: UserWarning: set_ticklabels() should only be used with a fixed number of ticks, i.e. after set_ticks() or using a FixedLocator.\n",
      "  axs2[1,0].set_yticklabels([f'{int(y/100000000):,}억 원' for y in axs2[1,0].get_yticks()])\n",
      "C:\\Users\\hanul\\AppData\\Local\\Temp\\ipykernel_11820\\4018375178.py:51: UserWarning: set_ticklabels() should only be used with a fixed number of ticks, i.e. after set_ticks() or using a FixedLocator.\n",
      "  axs2[1,1].set_yticklabels([f'{int(y/10000):,}만 원' for y in axs2[1,1].get_yticks()])\n"
     ]
    },
    {
     "data": {
      "text/plain": [
       "Text(0.5, 1.0, '2015.09 - 2016.08 카드 1회당 이용금액')"
      ]
     },
     "execution_count": 244,
     "metadata": {},
     "output_type": "execute_result"
    },
    {
     "data": {
      "image/png": "[encoded data removed]",
      "text/plain": [
       "<Figure size 1800x600 with 4 Axes>"
      ]
     },
     "metadata": {},
     "output_type": "display_data"
    }
   ],
   "source": [
    "# 2. 지역에 따른 분류\n",
    "\n",
    "# 1) 제주시/서귀포시\n",
    "\n",
    "jeju_k = card_korean[(card_korean['지역구분_시'] == '제주시') & (card_korean['회원 거주지'] != '제주')].iloc[:, np.r_[4,9:15]].groupby('관광업종 구분').sum().reset_index()\n",
    "jeju_c = card_chinese[card_chinese['지역구분_시'] == '제주시'].iloc[:, np.r_[4, 6:12]].groupby('관광업종 구분').sum().reset_index()\n",
    "\n",
    "suguipo_k = card_korean[(card_korean['지역구분_시'] == '서귀포시') & (card_korean['회원 거주지'] != '제주')].iloc[:, np.r_[4, 9:15]].groupby('관광업종 구분').sum().reset_index()\n",
    "suguipo_c = card_chinese[card_chinese['지역구분_시'] == '서귀포시'].iloc[:, np.r_[4, 6:12]].groupby('관광업종 구분').sum().reset_index()\n",
    "\n",
    "fig2, axs2 = plt.subplots(2, 2, figsize = (18, 6), constrained_layout=True)\n",
    "fig2.suptitle('시별 관광객 소비')\n",
    "\n",
    "axs2[0,0].bar(index - 1.5*width, jeju_k.iloc[:, 1], width, color = 'orange', label = '제주시 한국인')\n",
    "axs2[0,0].bar(index - 0.5*width, jeju_c.iloc[:, 1], width, color = 'red', label = '제주시 중국인')\n",
    "axs2[0,0].bar(index + 0.5*width, suguipo_k.iloc[:, 1], width, color = 'purple', label = '서귀포시 한국인')\n",
    "axs2[0,0].bar(index + 1.5*width, suguipo_c.iloc[:, 1], width, color = 'pink', label = '서귀포시 중국인')\n",
    "axs2[0,0].set_xticks(index, categories)\n",
    "axs2[0,0].set_yticklabels([f'{int(y/100000000):,}억 원' for y in axs2[0,0].get_yticks()]) \n",
    "axs2[0,0].set_xlabel('관광업종 분류')\n",
    "axs2[0,0].set_ylabel('2014.09 - 2015.08 카드 이용금액')\n",
    "axs2[0,0].set_title('2014.09 - 2015.08 카드 이용금액')\n",
    "\n",
    "axs2[0,0].legend()\n",
    "\n",
    "axs2[0,1].bar(index - 1.5*width, (jeju_k.iloc[:, 1] / jeju_k.iloc[:, 2]), width, color = 'orange')\n",
    "axs2[0,1].bar(index - 0.5*width, (jeju_c.iloc[:, 1] / jeju_c.iloc[:, 2]), width, color = 'red')\n",
    "axs2[0,1].bar(index + 0.5*width, (suguipo_k.iloc[:, 1] / suguipo_k.iloc[:, 2]), width, color = 'purple')\n",
    "axs2[0,1].bar(index + 1.5*width, (suguipo_c.iloc[:, 1] / suguipo_c.iloc[:, 2]), width, color = 'pink')\n",
    "axs2[0,1].set_xticks(index, categories)\n",
    "axs2[0,1].set_yticklabels([f'{int(y/10000):,}만 원' for y in axs2[0,1].get_yticks()]) \n",
    "axs2[0,1].set_xlabel('관광업종 분류')\n",
    "axs2[0,1].set_ylabel('2014.09 - 2015.08 카드 1회당 이용금액')\n",
    "axs2[0,1].set_title('2014.09 - 2015.08 카드 1회당 이용금액')\n",
    "\n",
    "axs2[1,0].bar(index - 1.5*width, jeju_k.iloc[:, 4], width, color = 'orange')\n",
    "axs2[1,0].bar(index - 0.5*width, jeju_c.iloc[:, 4], width, color = 'red')\n",
    "axs2[1,0].bar(index + 0.5*width, suguipo_k.iloc[:, 4], width, color = 'purple')\n",
    "axs2[1,0].bar(index + 1.5*width, suguipo_c.iloc[:, 4], width, color = 'pink')\n",
    "axs2[1,0].set_xticks(index, categories)\n",
    "axs2[1,0].set_yticklabels([f'{int(y/100000000):,}억 원' for y in axs2[1,0].get_yticks()]) \n",
    "axs2[1,0].set_xlabel('관광업종 분류')\n",
    "axs2[1,0].set_ylabel('2015.09 - 2016.08 카드 이용금액')\n",
    "axs2[1,0].set_title('2015.09 - 2016.08 카드 이용금액')\n",
    "\n",
    "axs2[1,1].bar(index - 1.5*width, (jeju_k.iloc[:, 4] / jeju_k.iloc[:, 5]), width, color = 'orange')\n",
    "axs2[1,1].bar(index - 0.5*width, (jeju_c.iloc[:, 4] / jeju_c.iloc[:, 5]), width, color = 'red')\n",
    "axs2[1,1].bar(index + 0.5*width, (suguipo_k.iloc[:, 4] / suguipo_k.iloc[:, 5]), width, color = 'purple')\n",
    "axs2[1,1].bar(index + 1.5*width, (suguipo_c.iloc[:, 4] / suguipo_c.iloc[:, 5]), width, color = 'pink')\n",
    "axs2[1,1].set_xticks(index, categories)\n",
    "axs2[1,1].set_yticklabels([f'{int(y/10000):,}만 원' for y in axs2[1,1].get_yticks()]) \n",
    "axs2[1,1].set_xlabel('관광업종 분류')\n",
    "axs2[1,1].set_ylabel('2015.09 - 2016.08 카드 1회당 이용금액')\n",
    "axs2[1,1].set_title('2015.09 - 2016.08 카드 1회당 이용금액')"
   ]
  },
  {
   "cell_type": "code",
   "execution_count": null,
   "id": "0060b22d-e1d9-4afc-8ad6-b1c749a4b799",
   "metadata": {},
   "outputs": [],
   "source": [
    "plt.savefig('region_si.png')"
   ]
  },
  {
   "cell_type": "code",
   "execution_count": 215,
   "id": "96d39375-7516-4328-9670-f65f7c6c0fe7",
   "metadata": {},
   "outputs": [],
   "source": [
    "# 2) 도심/도심 외\n"
   ]
  },
  {
   "cell_type": "code",
   "execution_count": null,
   "id": "7a5e7bfe-67ce-4e7e-bcdd-3ed2f8b1ee92",
   "metadata": {},
   "outputs": [],
   "source": [
    "# 3) 행정구역"
   ]
  },
  {
   "cell_type": "code",
   "execution_count": null,
   "id": "278c1f26-cb13-4e96-a512-65a4b112e256",
   "metadata": {},
   "outputs": [],
   "source": []
  }
 ],
 "metadata": {
  "kernelspec": {
   "display_name": "Python 3 (ipykernel)",
   "language": "python",
   "name": "python3"
  },
  "language_info": {
   "codemirror_mode": {
    "name": "ipython",
    "version": 3
   },
   "file_extension": ".py",
   "mimetype": "text/x-python",
   "name": "python",
   "nbconvert_exporter": "python",
   "pygments_lexer": "ipython3",
   "version": "3.13.2"
  }
 },
 "nbformat": 4,
 "nbformat_minor": 5
}
